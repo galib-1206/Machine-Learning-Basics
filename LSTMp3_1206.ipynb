{
  "nbformat": 4,
  "nbformat_minor": 0,
  "metadata": {
    "colab": {
      "provenance": [],
      "include_colab_link": true
    },
    "kernelspec": {
      "name": "python3",
      "display_name": "Python 3"
    },
    "language_info": {
      "name": "python"
    }
  },
  "cells": [
    {
      "cell_type": "markdown",
      "metadata": {
        "id": "view-in-github",
        "colab_type": "text"
      },
      "source": [
        "<a href=\"https://colab.research.google.com/github/galib-1206/Machine-Learning-Basics/blob/main/LSTMp3_1206.ipynb\" target=\"_parent\"><img src=\"https://colab.research.google.com/assets/colab-badge.svg\" alt=\"Open In Colab\"/></a>"
      ]
    },
    {
      "cell_type": "markdown",
      "source": [
        "Temperature Forecasting performance using LSTM model"
      ],
      "metadata": {
        "id": "Qe12oeYhcUxp"
      }
    },
    {
      "cell_type": "markdown",
      "source": [
        "### Installing Dependencies"
      ],
      "metadata": {
        "id": "dmqHvD7jMEzV"
      }
    },
    {
      "cell_type": "code",
      "execution_count": null,
      "metadata": {
        "colab": {
          "base_uri": "https://localhost:8080/"
        },
        "id": "h_z64E9ELZwx",
        "outputId": "345cb9a6-66e6-489f-f708-2314fbf310ec"
      },
      "outputs": [
        {
          "output_type": "stream",
          "name": "stdout",
          "text": [
            "Requirement already satisfied: tensorflow in /usr/local/lib/python3.10/dist-packages (2.17.1)\n",
            "Requirement already satisfied: absl-py>=1.0.0 in /usr/local/lib/python3.10/dist-packages (from tensorflow) (1.4.0)\n",
            "Requirement already satisfied: astunparse>=1.6.0 in /usr/local/lib/python3.10/dist-packages (from tensorflow) (1.6.3)\n",
            "Requirement already satisfied: flatbuffers>=24.3.25 in /usr/local/lib/python3.10/dist-packages (from tensorflow) (24.3.25)\n",
            "Requirement already satisfied: gast!=0.5.0,!=0.5.1,!=0.5.2,>=0.2.1 in /usr/local/lib/python3.10/dist-packages (from tensorflow) (0.6.0)\n",
            "Requirement already satisfied: google-pasta>=0.1.1 in /usr/local/lib/python3.10/dist-packages (from tensorflow) (0.2.0)\n",
            "Requirement already satisfied: h5py>=3.10.0 in /usr/local/lib/python3.10/dist-packages (from tensorflow) (3.12.1)\n",
            "Requirement already satisfied: libclang>=13.0.0 in /usr/local/lib/python3.10/dist-packages (from tensorflow) (18.1.1)\n",
            "Requirement already satisfied: ml-dtypes<0.5.0,>=0.3.1 in /usr/local/lib/python3.10/dist-packages (from tensorflow) (0.4.1)\n",
            "Requirement already satisfied: opt-einsum>=2.3.2 in /usr/local/lib/python3.10/dist-packages (from tensorflow) (3.4.0)\n",
            "Requirement already satisfied: packaging in /usr/local/lib/python3.10/dist-packages (from tensorflow) (24.2)\n",
            "Requirement already satisfied: protobuf!=4.21.0,!=4.21.1,!=4.21.2,!=4.21.3,!=4.21.4,!=4.21.5,<5.0.0dev,>=3.20.3 in /usr/local/lib/python3.10/dist-packages (from tensorflow) (4.25.5)\n",
            "Requirement already satisfied: requests<3,>=2.21.0 in /usr/local/lib/python3.10/dist-packages (from tensorflow) (2.32.3)\n",
            "Requirement already satisfied: setuptools in /usr/local/lib/python3.10/dist-packages (from tensorflow) (75.1.0)\n",
            "Requirement already satisfied: six>=1.12.0 in /usr/local/lib/python3.10/dist-packages (from tensorflow) (1.16.0)\n",
            "Requirement already satisfied: termcolor>=1.1.0 in /usr/local/lib/python3.10/dist-packages (from tensorflow) (2.5.0)\n",
            "Requirement already satisfied: typing-extensions>=3.6.6 in /usr/local/lib/python3.10/dist-packages (from tensorflow) (4.12.2)\n",
            "Requirement already satisfied: wrapt>=1.11.0 in /usr/local/lib/python3.10/dist-packages (from tensorflow) (1.16.0)\n",
            "Requirement already satisfied: grpcio<2.0,>=1.24.3 in /usr/local/lib/python3.10/dist-packages (from tensorflow) (1.68.0)\n",
            "Requirement already satisfied: tensorboard<2.18,>=2.17 in /usr/local/lib/python3.10/dist-packages (from tensorflow) (2.17.1)\n",
            "Requirement already satisfied: keras>=3.2.0 in /usr/local/lib/python3.10/dist-packages (from tensorflow) (3.5.0)\n",
            "Requirement already satisfied: tensorflow-io-gcs-filesystem>=0.23.1 in /usr/local/lib/python3.10/dist-packages (from tensorflow) (0.37.1)\n",
            "Requirement already satisfied: numpy<2.0.0,>=1.23.5 in /usr/local/lib/python3.10/dist-packages (from tensorflow) (1.26.4)\n",
            "Requirement already satisfied: wheel<1.0,>=0.23.0 in /usr/local/lib/python3.10/dist-packages (from astunparse>=1.6.0->tensorflow) (0.45.0)\n",
            "Requirement already satisfied: rich in /usr/local/lib/python3.10/dist-packages (from keras>=3.2.0->tensorflow) (13.9.4)\n",
            "Requirement already satisfied: namex in /usr/local/lib/python3.10/dist-packages (from keras>=3.2.0->tensorflow) (0.0.8)\n",
            "Requirement already satisfied: optree in /usr/local/lib/python3.10/dist-packages (from keras>=3.2.0->tensorflow) (0.13.1)\n",
            "Requirement already satisfied: charset-normalizer<4,>=2 in /usr/local/lib/python3.10/dist-packages (from requests<3,>=2.21.0->tensorflow) (3.4.0)\n",
            "Requirement already satisfied: idna<4,>=2.5 in /usr/local/lib/python3.10/dist-packages (from requests<3,>=2.21.0->tensorflow) (3.10)\n",
            "Requirement already satisfied: urllib3<3,>=1.21.1 in /usr/local/lib/python3.10/dist-packages (from requests<3,>=2.21.0->tensorflow) (2.2.3)\n",
            "Requirement already satisfied: certifi>=2017.4.17 in /usr/local/lib/python3.10/dist-packages (from requests<3,>=2.21.0->tensorflow) (2024.8.30)\n",
            "Requirement already satisfied: markdown>=2.6.8 in /usr/local/lib/python3.10/dist-packages (from tensorboard<2.18,>=2.17->tensorflow) (3.7)\n",
            "Requirement already satisfied: tensorboard-data-server<0.8.0,>=0.7.0 in /usr/local/lib/python3.10/dist-packages (from tensorboard<2.18,>=2.17->tensorflow) (0.7.2)\n",
            "Requirement already satisfied: werkzeug>=1.0.1 in /usr/local/lib/python3.10/dist-packages (from tensorboard<2.18,>=2.17->tensorflow) (3.1.3)\n",
            "Requirement already satisfied: MarkupSafe>=2.1.1 in /usr/local/lib/python3.10/dist-packages (from werkzeug>=1.0.1->tensorboard<2.18,>=2.17->tensorflow) (3.0.2)\n",
            "Requirement already satisfied: markdown-it-py>=2.2.0 in /usr/local/lib/python3.10/dist-packages (from rich->keras>=3.2.0->tensorflow) (3.0.0)\n",
            "Requirement already satisfied: pygments<3.0.0,>=2.13.0 in /usr/local/lib/python3.10/dist-packages (from rich->keras>=3.2.0->tensorflow) (2.18.0)\n",
            "Requirement already satisfied: mdurl~=0.1 in /usr/local/lib/python3.10/dist-packages (from markdown-it-py>=2.2.0->rich->keras>=3.2.0->tensorflow) (0.1.2)\n",
            "Requirement already satisfied: numpy in /usr/local/lib/python3.10/dist-packages (1.26.4)\n",
            "Requirement already satisfied: pandas in /usr/local/lib/python3.10/dist-packages (2.2.2)\n",
            "Requirement already satisfied: matplotlib in /usr/local/lib/python3.10/dist-packages (3.8.0)\n",
            "Requirement already satisfied: python-dateutil>=2.8.2 in /usr/local/lib/python3.10/dist-packages (from pandas) (2.8.2)\n",
            "Requirement already satisfied: pytz>=2020.1 in /usr/local/lib/python3.10/dist-packages (from pandas) (2024.2)\n",
            "Requirement already satisfied: tzdata>=2022.7 in /usr/local/lib/python3.10/dist-packages (from pandas) (2024.2)\n",
            "Requirement already satisfied: contourpy>=1.0.1 in /usr/local/lib/python3.10/dist-packages (from matplotlib) (1.3.1)\n",
            "Requirement already satisfied: cycler>=0.10 in /usr/local/lib/python3.10/dist-packages (from matplotlib) (0.12.1)\n",
            "Requirement already satisfied: fonttools>=4.22.0 in /usr/local/lib/python3.10/dist-packages (from matplotlib) (4.55.0)\n",
            "Requirement already satisfied: kiwisolver>=1.0.1 in /usr/local/lib/python3.10/dist-packages (from matplotlib) (1.4.7)\n",
            "Requirement already satisfied: packaging>=20.0 in /usr/local/lib/python3.10/dist-packages (from matplotlib) (24.2)\n",
            "Requirement already satisfied: pillow>=6.2.0 in /usr/local/lib/python3.10/dist-packages (from matplotlib) (11.0.0)\n",
            "Requirement already satisfied: pyparsing>=2.3.1 in /usr/local/lib/python3.10/dist-packages (from matplotlib) (3.2.0)\n",
            "Requirement already satisfied: six>=1.5 in /usr/local/lib/python3.10/dist-packages (from python-dateutil>=2.8.2->pandas) (1.16.0)\n"
          ]
        }
      ],
      "source": [
        "# Install TensorFlow\n",
        "!pip install tensorflow\n",
        "\n",
        "# Install numpy, pandas, Matplotlib for\n",
        "!pip install numpy pandas matplotlib"
      ]
    },
    {
      "cell_type": "code",
      "source": [
        "import numpy as np\n",
        "import pandas as pd\n",
        "import matplotlib.pyplot as plt\n",
        "import tensorflow as tf\n",
        "from tensorflow.keras.models import Sequential\n",
        "from tensorflow.keras.layers import LSTM, Dense"
      ],
      "metadata": {
        "id": "7UDATo4rLoiw"
      },
      "execution_count": null,
      "outputs": []
    },
    {
      "cell_type": "markdown",
      "source": [
        "### Dataset Creation\n",
        "This tutorial creates a hand-crafted dataset."
      ],
      "metadata": {
        "id": "naU4uhVRMHtw"
      }
    },
    {
      "cell_type": "code",
      "source": [
        "# Sample dataset\n",
        "temperature_data = np.array([20, 21, 22, 24, 27, 30, 32, 33, 35, 34, 32, 29, 25, 22, 21, 20, 18, 17, 16, 15])"
      ],
      "metadata": {
        "id": "H4L72XL5Lqq8"
      },
      "execution_count": null,
      "outputs": []
    },
    {
      "cell_type": "code",
      "source": [
        "# Splitting the data into training and testing sets\n",
        "train_size = int(len(temperature_data) * 0.67)\n",
        "train_data, test_data = temperature_data[0:train_size], temperature_data[train_size:]\n",
        "\n",
        "# Normalize the data\n",
        "train_data = (train_data - np.min(train_data)) / (np.max(train_data) - np.min(train_data))\n",
        "test_data = (test_data - np.min(test_data)) / (np.max(test_data) - np.min(test_data))\n",
        "\n",
        "# Function to create sequences from the data\n",
        "def create_sequences(data, seq_length):\n",
        "    sequences = []\n",
        "    for i in range(len(data) - seq_length):\n",
        "        sequence = data[i:i+seq_length]\n",
        "        sequences.append(sequence)\n",
        "    return np.array(sequences)\n",
        "\n",
        "# Choose a sequence length (e.g., 5 days)\n",
        "seq_length = 5\n",
        "X_train = create_sequences(train_data, seq_length)\n",
        "y_train = train_data[seq_length:]\n",
        "X_test = create_sequences(test_data, seq_length)\n",
        "y_test = test_data[seq_length:]"
      ],
      "metadata": {
        "id": "n7QwsW5BLsYq"
      },
      "execution_count": null,
      "outputs": []
    },
    {
      "cell_type": "markdown",
      "source": [
        "### Training"
      ],
      "metadata": {
        "id": "U-5Dc_FtMd6Z"
      }
    },
    {
      "cell_type": "code",
      "source": [
        "model = Sequential()\n",
        "\n",
        "# LSTM layer with 50 units\n",
        "model.add(LSTM(50, input_shape=(seq_length, 1)))\n",
        "\n",
        "# Output layer\n",
        "model.add(Dense(1))\n",
        "\n",
        "# Compile the model\n",
        "model.compile(loss='mean_squared_error', optimizer='adam')\n",
        "\n",
        "# Print a summary of the model\n",
        "model.summary()"
      ],
      "metadata": {
        "colab": {
          "base_uri": "https://localhost:8080/",
          "height": 248
        },
        "id": "3PZi-Tg5LwNm",
        "outputId": "abb23d26-9d28-4416-ebc6-415d28344cce"
      },
      "execution_count": null,
      "outputs": [
        {
          "output_type": "stream",
          "name": "stderr",
          "text": [
            "/usr/local/lib/python3.10/dist-packages/keras/src/layers/rnn/rnn.py:204: UserWarning: Do not pass an `input_shape`/`input_dim` argument to a layer. When using Sequential models, prefer using an `Input(shape)` object as the first layer in the model instead.\n",
            "  super().__init__(**kwargs)\n"
          ]
        },
        {
          "output_type": "display_data",
          "data": {
            "text/plain": [
              "\u001b[1mModel: \"sequential\"\u001b[0m\n"
            ],
            "text/html": [
              "<pre style=\"white-space:pre;overflow-x:auto;line-height:normal;font-family:Menlo,'DejaVu Sans Mono',consolas,'Courier New',monospace\"><span style=\"font-weight: bold\">Model: \"sequential\"</span>\n",
              "</pre>\n"
            ]
          },
          "metadata": {}
        },
        {
          "output_type": "display_data",
          "data": {
            "text/plain": [
              "┏━━━━━━━━━━━━━━━━━━━━━━━━━━━━━━━━━━━━━━┳━━━━━━━━━━━━━━━━━━━━━━━━━━━━━┳━━━━━━━━━━━━━━━━━┓\n",
              "┃\u001b[1m \u001b[0m\u001b[1mLayer (type)                        \u001b[0m\u001b[1m \u001b[0m┃\u001b[1m \u001b[0m\u001b[1mOutput Shape               \u001b[0m\u001b[1m \u001b[0m┃\u001b[1m \u001b[0m\u001b[1m        Param #\u001b[0m\u001b[1m \u001b[0m┃\n",
              "┡━━━━━━━━━━━━━━━━━━━━━━━━━━━━━━━━━━━━━━╇━━━━━━━━━━━━━━━━━━━━━━━━━━━━━╇━━━━━━━━━━━━━━━━━┩\n",
              "│ lstm (\u001b[38;5;33mLSTM\u001b[0m)                          │ (\u001b[38;5;45mNone\u001b[0m, \u001b[38;5;34m50\u001b[0m)                  │          \u001b[38;5;34m10,400\u001b[0m │\n",
              "├──────────────────────────────────────┼─────────────────────────────┼─────────────────┤\n",
              "│ dense (\u001b[38;5;33mDense\u001b[0m)                        │ (\u001b[38;5;45mNone\u001b[0m, \u001b[38;5;34m1\u001b[0m)                   │              \u001b[38;5;34m51\u001b[0m │\n",
              "└──────────────────────────────────────┴─────────────────────────────┴─────────────────┘\n"
            ],
            "text/html": [
              "<pre style=\"white-space:pre;overflow-x:auto;line-height:normal;font-family:Menlo,'DejaVu Sans Mono',consolas,'Courier New',monospace\">┏━━━━━━━━━━━━━━━━━━━━━━━━━━━━━━━━━━━━━━┳━━━━━━━━━━━━━━━━━━━━━━━━━━━━━┳━━━━━━━━━━━━━━━━━┓\n",
              "┃<span style=\"font-weight: bold\"> Layer (type)                         </span>┃<span style=\"font-weight: bold\"> Output Shape                </span>┃<span style=\"font-weight: bold\">         Param # </span>┃\n",
              "┡━━━━━━━━━━━━━━━━━━━━━━━━━━━━━━━━━━━━━━╇━━━━━━━━━━━━━━━━━━━━━━━━━━━━━╇━━━━━━━━━━━━━━━━━┩\n",
              "│ lstm (<span style=\"color: #0087ff; text-decoration-color: #0087ff\">LSTM</span>)                          │ (<span style=\"color: #00d7ff; text-decoration-color: #00d7ff\">None</span>, <span style=\"color: #00af00; text-decoration-color: #00af00\">50</span>)                  │          <span style=\"color: #00af00; text-decoration-color: #00af00\">10,400</span> │\n",
              "├──────────────────────────────────────┼─────────────────────────────┼─────────────────┤\n",
              "│ dense (<span style=\"color: #0087ff; text-decoration-color: #0087ff\">Dense</span>)                        │ (<span style=\"color: #00d7ff; text-decoration-color: #00d7ff\">None</span>, <span style=\"color: #00af00; text-decoration-color: #00af00\">1</span>)                   │              <span style=\"color: #00af00; text-decoration-color: #00af00\">51</span> │\n",
              "└──────────────────────────────────────┴─────────────────────────────┴─────────────────┘\n",
              "</pre>\n"
            ]
          },
          "metadata": {}
        },
        {
          "output_type": "display_data",
          "data": {
            "text/plain": [
              "\u001b[1m Total params: \u001b[0m\u001b[38;5;34m10,451\u001b[0m (40.82 KB)\n"
            ],
            "text/html": [
              "<pre style=\"white-space:pre;overflow-x:auto;line-height:normal;font-family:Menlo,'DejaVu Sans Mono',consolas,'Courier New',monospace\"><span style=\"font-weight: bold\"> Total params: </span><span style=\"color: #00af00; text-decoration-color: #00af00\">10,451</span> (40.82 KB)\n",
              "</pre>\n"
            ]
          },
          "metadata": {}
        },
        {
          "output_type": "display_data",
          "data": {
            "text/plain": [
              "\u001b[1m Trainable params: \u001b[0m\u001b[38;5;34m10,451\u001b[0m (40.82 KB)\n"
            ],
            "text/html": [
              "<pre style=\"white-space:pre;overflow-x:auto;line-height:normal;font-family:Menlo,'DejaVu Sans Mono',consolas,'Courier New',monospace\"><span style=\"font-weight: bold\"> Trainable params: </span><span style=\"color: #00af00; text-decoration-color: #00af00\">10,451</span> (40.82 KB)\n",
              "</pre>\n"
            ]
          },
          "metadata": {}
        },
        {
          "output_type": "display_data",
          "data": {
            "text/plain": [
              "\u001b[1m Non-trainable params: \u001b[0m\u001b[38;5;34m0\u001b[0m (0.00 B)\n"
            ],
            "text/html": [
              "<pre style=\"white-space:pre;overflow-x:auto;line-height:normal;font-family:Menlo,'DejaVu Sans Mono',consolas,'Courier New',monospace\"><span style=\"font-weight: bold\"> Non-trainable params: </span><span style=\"color: #00af00; text-decoration-color: #00af00\">0</span> (0.00 B)\n",
              "</pre>\n"
            ]
          },
          "metadata": {}
        }
      ]
    },
    {
      "cell_type": "code",
      "source": [
        "model.fit(X_train, y_train, epochs=100, batch_size=1, verbose=2)"
      ],
      "metadata": {
        "colab": {
          "base_uri": "https://localhost:8080/"
        },
        "id": "dCqXyGLZLxtm",
        "outputId": "1f1dadd2-1fca-4689-c5d0-98346e1d8ea0"
      },
      "execution_count": null,
      "outputs": [
        {
          "output_type": "stream",
          "name": "stdout",
          "text": [
            "Epoch 1/100\n",
            "8/8 - 2s - 226ms/step - loss: 0.5296\n",
            "Epoch 2/100\n",
            "8/8 - 0s - 5ms/step - loss: 0.3265\n",
            "Epoch 3/100\n",
            "8/8 - 0s - 5ms/step - loss: 0.1925\n",
            "Epoch 4/100\n",
            "8/8 - 0s - 12ms/step - loss: 0.1343\n",
            "Epoch 5/100\n",
            "8/8 - 0s - 11ms/step - loss: 0.1072\n",
            "Epoch 6/100\n",
            "8/8 - 0s - 19ms/step - loss: 0.1028\n",
            "Epoch 7/100\n",
            "8/8 - 0s - 8ms/step - loss: 0.0951\n",
            "Epoch 8/100\n",
            "8/8 - 0s - 18ms/step - loss: 0.0907\n",
            "Epoch 9/100\n",
            "8/8 - 0s - 20ms/step - loss: 0.0855\n",
            "Epoch 10/100\n",
            "8/8 - 0s - 20ms/step - loss: 0.0824\n",
            "Epoch 11/100\n",
            "8/8 - 0s - 18ms/step - loss: 0.0773\n",
            "Epoch 12/100\n",
            "8/8 - 0s - 12ms/step - loss: 0.0740\n",
            "Epoch 13/100\n",
            "8/8 - 0s - 8ms/step - loss: 0.0719\n",
            "Epoch 14/100\n",
            "8/8 - 0s - 22ms/step - loss: 0.0676\n",
            "Epoch 15/100\n",
            "8/8 - 0s - 21ms/step - loss: 0.0695\n",
            "Epoch 16/100\n",
            "8/8 - 0s - 45ms/step - loss: 0.0608\n",
            "Epoch 17/100\n",
            "8/8 - 0s - 11ms/step - loss: 0.0589\n",
            "Epoch 18/100\n",
            "8/8 - 0s - 21ms/step - loss: 0.0553\n",
            "Epoch 19/100\n",
            "8/8 - 0s - 26ms/step - loss: 0.0515\n",
            "Epoch 20/100\n",
            "8/8 - 0s - 36ms/step - loss: 0.0502\n",
            "Epoch 21/100\n",
            "8/8 - 0s - 15ms/step - loss: 0.0443\n",
            "Epoch 22/100\n",
            "8/8 - 0s - 21ms/step - loss: 0.0425\n",
            "Epoch 23/100\n",
            "8/8 - 0s - 18ms/step - loss: 0.0394\n",
            "Epoch 24/100\n",
            "8/8 - 0s - 17ms/step - loss: 0.0362\n",
            "Epoch 25/100\n",
            "8/8 - 0s - 14ms/step - loss: 0.0352\n",
            "Epoch 26/100\n",
            "8/8 - 0s - 34ms/step - loss: 0.0316\n",
            "Epoch 27/100\n",
            "8/8 - 0s - 27ms/step - loss: 0.0316\n",
            "Epoch 28/100\n",
            "8/8 - 0s - 21ms/step - loss: 0.0320\n",
            "Epoch 29/100\n",
            "8/8 - 0s - 17ms/step - loss: 0.0303\n",
            "Epoch 30/100\n",
            "8/8 - 0s - 22ms/step - loss: 0.0284\n",
            "Epoch 31/100\n",
            "8/8 - 0s - 19ms/step - loss: 0.0248\n",
            "Epoch 32/100\n",
            "8/8 - 0s - 16ms/step - loss: 0.0243\n",
            "Epoch 33/100\n",
            "8/8 - 0s - 18ms/step - loss: 0.0283\n",
            "Epoch 34/100\n",
            "8/8 - 0s - 34ms/step - loss: 0.0249\n",
            "Epoch 35/100\n",
            "8/8 - 0s - 19ms/step - loss: 0.0238\n",
            "Epoch 36/100\n",
            "8/8 - 0s - 14ms/step - loss: 0.0232\n",
            "Epoch 37/100\n",
            "8/8 - 0s - 12ms/step - loss: 0.0234\n",
            "Epoch 38/100\n",
            "8/8 - 0s - 8ms/step - loss: 0.0226\n",
            "Epoch 39/100\n",
            "8/8 - 0s - 9ms/step - loss: 0.0220\n",
            "Epoch 40/100\n",
            "8/8 - 0s - 8ms/step - loss: 0.0224\n",
            "Epoch 41/100\n",
            "8/8 - 0s - 20ms/step - loss: 0.0212\n",
            "Epoch 42/100\n",
            "8/8 - 0s - 10ms/step - loss: 0.0213\n",
            "Epoch 43/100\n",
            "8/8 - 0s - 17ms/step - loss: 0.0204\n",
            "Epoch 44/100\n",
            "8/8 - 0s - 14ms/step - loss: 0.0197\n",
            "Epoch 45/100\n",
            "8/8 - 0s - 17ms/step - loss: 0.0257\n",
            "Epoch 46/100\n",
            "8/8 - 0s - 15ms/step - loss: 0.0212\n",
            "Epoch 47/100\n",
            "8/8 - 0s - 12ms/step - loss: 0.0210\n",
            "Epoch 48/100\n",
            "8/8 - 0s - 15ms/step - loss: 0.0216\n",
            "Epoch 49/100\n",
            "8/8 - 0s - 31ms/step - loss: 0.0192\n",
            "Epoch 50/100\n",
            "8/8 - 0s - 18ms/step - loss: 0.0199\n",
            "Epoch 51/100\n",
            "8/8 - 0s - 21ms/step - loss: 0.0197\n",
            "Epoch 52/100\n",
            "8/8 - 0s - 13ms/step - loss: 0.0179\n",
            "Epoch 53/100\n",
            "8/8 - 0s - 5ms/step - loss: 0.0171\n",
            "Epoch 54/100\n",
            "8/8 - 0s - 8ms/step - loss: 0.0171\n",
            "Epoch 55/100\n",
            "8/8 - 0s - 6ms/step - loss: 0.0165\n",
            "Epoch 56/100\n",
            "8/8 - 0s - 5ms/step - loss: 0.0159\n",
            "Epoch 57/100\n",
            "8/8 - 0s - 5ms/step - loss: 0.0160\n",
            "Epoch 58/100\n",
            "8/8 - 0s - 5ms/step - loss: 0.0153\n",
            "Epoch 59/100\n",
            "8/8 - 0s - 5ms/step - loss: 0.0146\n",
            "Epoch 60/100\n",
            "8/8 - 0s - 9ms/step - loss: 0.0151\n",
            "Epoch 61/100\n",
            "8/8 - 0s - 6ms/step - loss: 0.0138\n",
            "Epoch 62/100\n",
            "8/8 - 0s - 5ms/step - loss: 0.0143\n",
            "Epoch 63/100\n",
            "8/8 - 0s - 5ms/step - loss: 0.0142\n",
            "Epoch 64/100\n",
            "8/8 - 0s - 5ms/step - loss: 0.0128\n",
            "Epoch 65/100\n",
            "8/8 - 0s - 7ms/step - loss: 0.0133\n",
            "Epoch 66/100\n",
            "8/8 - 0s - 5ms/step - loss: 0.0120\n",
            "Epoch 67/100\n",
            "8/8 - 0s - 8ms/step - loss: 0.0122\n",
            "Epoch 68/100\n",
            "8/8 - 0s - 5ms/step - loss: 0.0127\n",
            "Epoch 69/100\n",
            "8/8 - 0s - 7ms/step - loss: 0.0104\n",
            "Epoch 70/100\n",
            "8/8 - 0s - 6ms/step - loss: 0.0117\n",
            "Epoch 71/100\n",
            "8/8 - 0s - 7ms/step - loss: 0.0132\n",
            "Epoch 72/100\n",
            "8/8 - 0s - 6ms/step - loss: 0.0129\n",
            "Epoch 73/100\n",
            "8/8 - 0s - 7ms/step - loss: 0.0099\n",
            "Epoch 74/100\n",
            "8/8 - 0s - 5ms/step - loss: 0.0099\n",
            "Epoch 75/100\n",
            "8/8 - 0s - 6ms/step - loss: 0.0099\n",
            "Epoch 76/100\n",
            "8/8 - 0s - 7ms/step - loss: 0.0083\n",
            "Epoch 77/100\n",
            "8/8 - 0s - 5ms/step - loss: 0.0079\n",
            "Epoch 78/100\n",
            "8/8 - 0s - 5ms/step - loss: 0.0089\n",
            "Epoch 79/100\n",
            "8/8 - 0s - 9ms/step - loss: 0.0065\n",
            "Epoch 80/100\n",
            "8/8 - 0s - 6ms/step - loss: 0.0086\n",
            "Epoch 81/100\n",
            "8/8 - 0s - 5ms/step - loss: 0.0066\n",
            "Epoch 82/100\n",
            "8/8 - 0s - 8ms/step - loss: 0.0070\n",
            "Epoch 83/100\n",
            "8/8 - 0s - 7ms/step - loss: 0.0063\n",
            "Epoch 84/100\n",
            "8/8 - 0s - 8ms/step - loss: 0.0051\n",
            "Epoch 85/100\n",
            "8/8 - 0s - 5ms/step - loss: 0.0079\n",
            "Epoch 86/100\n",
            "8/8 - 0s - 7ms/step - loss: 0.0048\n",
            "Epoch 87/100\n",
            "8/8 - 0s - 8ms/step - loss: 0.0049\n",
            "Epoch 88/100\n",
            "8/8 - 0s - 7ms/step - loss: 0.0043\n",
            "Epoch 89/100\n",
            "8/8 - 0s - 7ms/step - loss: 0.0044\n",
            "Epoch 90/100\n",
            "8/8 - 0s - 8ms/step - loss: 0.0050\n",
            "Epoch 91/100\n",
            "8/8 - 0s - 18ms/step - loss: 0.0031\n",
            "Epoch 92/100\n",
            "8/8 - 0s - 17ms/step - loss: 0.0041\n",
            "Epoch 93/100\n",
            "8/8 - 0s - 16ms/step - loss: 0.0032\n",
            "Epoch 94/100\n",
            "8/8 - 0s - 19ms/step - loss: 0.0036\n",
            "Epoch 95/100\n",
            "8/8 - 0s - 14ms/step - loss: 0.0022\n",
            "Epoch 96/100\n",
            "8/8 - 0s - 19ms/step - loss: 0.0031\n",
            "Epoch 97/100\n",
            "8/8 - 0s - 20ms/step - loss: 0.0038\n",
            "Epoch 98/100\n",
            "8/8 - 0s - 27ms/step - loss: 0.0038\n",
            "Epoch 99/100\n",
            "8/8 - 0s - 35ms/step - loss: 0.0024\n",
            "Epoch 100/100\n",
            "8/8 - 0s - 19ms/step - loss: 0.0020\n"
          ]
        },
        {
          "output_type": "execute_result",
          "data": {
            "text/plain": [
              "<keras.src.callbacks.history.History at 0x7b6374453940>"
            ]
          },
          "metadata": {},
          "execution_count": 6
        }
      ]
    },
    {
      "cell_type": "code",
      "source": [
        "# Predictions\n",
        "train_predict = model.predict(X_train)\n",
        "test_predict = model.predict(X_test)\n",
        "\n",
        "# Inverse transform the predictions to get them in the original scale\n",
        "train_predict = (train_predict * (np.max(train_data) - np.min(train_data))) + np.min(train_data)\n",
        "test_predict = (test_predict * (np.max(test_data) - np.min(test_data))) + np.min(test_data)\n",
        "\n",
        "# Plot the results\n",
        "plt.figure(figsize=(12, 6))\n",
        "plt.plot(temperature_data, label='Actual Data')\n",
        "plt.plot(range(seq_length, train_size), train_predict, label='Training Predictions')\n",
        "plt.plot(range(train_size + seq_length, len(temperature_data)), test_predict, label='Testing Predictions')\n",
        "plt.legend()\n",
        "plt.title('Temperature Forecasting with LSTM')\n",
        "plt.xlabel('Days')\n",
        "plt.ylabel('Temperature')\n",
        "plt.show()"
      ],
      "metadata": {
        "colab": {
          "base_uri": "https://localhost:8080/",
          "height": 599
        },
        "id": "C4Es3g3sLzIt",
        "outputId": "7a754210-2b8d-4847-c495-76a878013b9e"
      },
      "execution_count": null,
      "outputs": [
        {
          "output_type": "stream",
          "name": "stdout",
          "text": [
            "\u001b[1m1/1\u001b[0m \u001b[32m━━━━━━━━━━━━━━━━━━━━\u001b[0m\u001b[37m\u001b[0m \u001b[1m0s\u001b[0m 423ms/step\n",
            "\u001b[1m1/1\u001b[0m \u001b[32m━━━━━━━━━━━━━━━━━━━━\u001b[0m\u001b[37m\u001b[0m \u001b[1m0s\u001b[0m 334ms/step\n"
          ]
        },
        {
          "output_type": "display_data",
          "data": {
            "text/plain": [
              "<Figure size 1200x600 with 1 Axes>"
            ],
            "image/png": "[encoded data removed]"
          },
          "metadata": {}
        }
      ]
    },
    {
      "cell_type": "markdown",
      "source": [
        "From the performance graph above, a really poor performance is observed in the tutorial dataset."
      ],
      "metadata": {
        "id": "iYL1pM19Mg3k"
      }
    }
  ]
}