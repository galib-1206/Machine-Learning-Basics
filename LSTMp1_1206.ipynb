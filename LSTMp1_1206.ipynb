{
  "nbformat": 4,
  "nbformat_minor": 0,
  "metadata": {
    "colab": {
      "provenance": [],
      "toc_visible": true,
      "gpuType": "T4",
      "authorship_tag": "ABX9TyO46Uh45lnKxCu29sBlkMB4",
      "include_colab_link": true
    },
    "kernelspec": {
      "name": "python3",
      "display_name": "Python 3"
    },
    "language_info": {
      "name": "python"
    },
    "accelerator": "GPU"
  },
  "cells": [
    {
      "cell_type": "markdown",
      "metadata": {
        "id": "view-in-github",
        "colab_type": "text"
      },
      "source": [
        "<a href=\"https://colab.research.google.com/github/galib-1206/Machine-Learning-Basics/blob/main/LSTMp1_1206.ipynb\" target=\"_parent\"><img src=\"https://colab.research.google.com/assets/colab-badge.svg\" alt=\"Open In Colab\"/></a>"
      ]
    },
    {
      "cell_type": "markdown",
      "source": [
        "### Tensorflow LSTM"
      ],
      "metadata": {
        "id": "qAVZrM7dO4NJ"
      }
    },
    {
      "cell_type": "markdown",
      "source": [
        "Install dependencies"
      ],
      "metadata": {
        "id": "xHIdTL4TPEfB"
      }
    },
    {
      "cell_type": "code",
      "source": [],
      "metadata": {
        "id": "fIB-ZrTSPIQC"
      },
      "execution_count": null,
      "outputs": []
    },
    {
      "cell_type": "code",
      "execution_count": null,
      "metadata": {
        "id": "Vk2J3o9fGj3Z",
        "colab": {
          "base_uri": "https://localhost:8080/"
        },
        "outputId": "bcf1b792-b184-4aa3-cc13-9b1c2e469ecf"
      },
      "outputs": [
        {
          "output_type": "stream",
          "name": "stdout",
          "text": [
            "Requirement already satisfied: nltk in /usr/local/lib/python3.10/dist-packages (3.9.1)\n",
            "Requirement already satisfied: click in /usr/local/lib/python3.10/dist-packages (from nltk) (8.1.7)\n",
            "Requirement already satisfied: joblib in /usr/local/lib/python3.10/dist-packages (from nltk) (1.4.2)\n",
            "Requirement already satisfied: regex>=2021.8.3 in /usr/local/lib/python3.10/dist-packages (from nltk) (2024.9.11)\n",
            "Requirement already satisfied: tqdm in /usr/local/lib/python3.10/dist-packages (from nltk) (4.66.6)\n"
          ]
        }
      ],
      "source": [
        "!pip install nltk"
      ]
    },
    {
      "cell_type": "code",
      "execution_count": null,
      "metadata": {
        "colab": {
          "base_uri": "https://localhost:8080/"
        },
        "id": "wARWB2j3Oey-",
        "outputId": "7f6e3c26-603c-4ac8-eea6-e87824f0877f"
      },
      "outputs": [
        {
          "output_type": "stream",
          "name": "stderr",
          "text": [
            "[nltk_data] Downloading package punkt to /root/nltk_data...\n",
            "[nltk_data]   Unzipping tokenizers/punkt.zip.\n",
            "[nltk_data] Downloading package stopwords to /root/nltk_data...\n",
            "[nltk_data]   Unzipping corpora/stopwords.zip.\n"
          ]
        },
        {
          "output_type": "execute_result",
          "data": {
            "text/plain": [
              "True"
            ]
          },
          "metadata": {},
          "execution_count": 2
        }
      ],
      "source": [
        "import nltk\n",
        "\n",
        "nltk.download('punkt')\n",
        "nltk.download('stopwords')\n"
      ]
    },
    {
      "cell_type": "markdown",
      "source": [],
      "metadata": {
        "id": "QVqzl0G0PhVr"
      }
    },
    {
      "cell_type": "markdown",
      "source": [
        "### Loading Dataset\n",
        "We consider Tesla Stock Price for this work."
      ],
      "metadata": {
        "id": "cqZdhXJDHfGZ"
      }
    },
    {
      "cell_type": "code",
      "source": [],
      "metadata": {
        "id": "TcY-N7MvPjS9"
      },
      "execution_count": null,
      "outputs": []
    },
    {
      "cell_type": "code",
      "source": [
        "!wget https://raw.githubusercontent.com/plotly/datasets/refs/heads/master/tesla-stock-price.csv"
      ],
      "metadata": {
        "colab": {
          "base_uri": "https://localhost:8080/"
        },
        "id": "GhxUS3dGHH--",
        "outputId": "fc0bae3a-b559-4a59-e7db-37714cc74971"
      },
      "execution_count": null,
      "outputs": [
        {
          "output_type": "stream",
          "name": "stdout",
          "text": [
            "--2024-11-27 06:32:52--  https://raw.githubusercontent.com/plotly/datasets/refs/heads/master/tesla-stock-price.csv\n",
            "Resolving raw.githubusercontent.com (raw.githubusercontent.com)... 185.199.108.133, 185.199.109.133, 185.199.110.133, ...\n",
            "Connecting to raw.githubusercontent.com (raw.githubusercontent.com)|185.199.108.133|:443... connected.\n",
            "HTTP request sent, awaiting response... 200 OK\n",
            "Length: 55371 (54K) [text/plain]\n",
            "Saving to: ‘tesla-stock-price.csv’\n",
            "\n",
            "\rtesla-stock-price.c   0%[                    ]       0  --.-KB/s               \rtesla-stock-price.c 100%[===================>]  54.07K  --.-KB/s    in 0.009s  \n",
            "\n",
            "2024-11-27 06:32:52 (5.89 MB/s) - ‘tesla-stock-price.csv’ saved [55371/55371]\n",
            "\n"
          ]
        }
      ]
    },
    {
      "cell_type": "code",
      "source": [
        "import pandas as pd\n",
        "\n",
        "data = pd.read_csv('tesla-stock-price.csv')"
      ],
      "metadata": {
        "id": "c_7y3EmhPtf8"
      },
      "execution_count": null,
      "outputs": []
    },
    {
      "cell_type": "code",
      "source": [
        "data.drop(\"date\", inplace=True, axis=1)"
      ],
      "metadata": {
        "id": "Dv9aKggHP5mN"
      },
      "execution_count": null,
      "outputs": []
    },
    {
      "cell_type": "code",
      "source": [],
      "metadata": {
        "id": "Q5CPwud9P7en"
      },
      "execution_count": null,
      "outputs": []
    },
    {
      "cell_type": "code",
      "source": [
        "data = data.replace({',': ''}, regex=True)\n",
        "\n",
        "# Convert the relevant columns to numeric\n",
        "data = data.apply(pd.to_numeric, errors='coerce')\n"
      ],
      "metadata": {
        "id": "mPnGRcBRIX7g"
      },
      "execution_count": null,
      "outputs": []
    },
    {
      "cell_type": "code",
      "source": [
        "data"
      ],
      "metadata": {
        "colab": {
          "base_uri": "https://localhost:8080/",
          "height": 424
        },
        "id": "rBkW0pE8QPEp",
        "outputId": "abe02b17-66d2-4266-8359-3f5656b6e022"
      },
      "execution_count": null,
      "outputs": [
        {
          "output_type": "execute_result",
          "data": {
            "text/plain": [
              "      close      volume    open      high       low\n",
              "0    270.49   4787699.0  264.50  273.8800  262.2400\n",
              "1    259.59   6189026.0  259.06  263.2800  254.5367\n",
              "2    258.78   7189257.0  261.00  261.9900  252.0100\n",
              "3    252.23   8128184.0  257.53  262.2500  249.0300\n",
              "4    256.88  12781560.0  264.61  265.5100  247.7700\n",
              "..      ...         ...     ...       ...       ...\n",
              "752  210.09   4177956.0  211.99  214.8100  208.8000\n",
              "753  213.03  14877020.0  227.72  228.6000  202.0000\n",
              "754  228.10   2506836.0  226.50  231.1500  224.9400\n",
              "755  227.01   4327574.0  223.04  230.4805  222.8700\n",
              "756  221.31   2835920.0  216.43  221.7300  213.7000\n",
              "\n",
              "[757 rows x 5 columns]"
            ],
            "text/html": [
              "\n",
              "  <div id=\"df-6e05c1f0-43f8-4631-9e69-64762395c000\" class=\"colab-df-container\">\n",
              "    <div>\n",
              "<style scoped>\n",
              "    .dataframe tbody tr th:only-of-type {\n",
              "        vertical-align: middle;\n",
              "    }\n",
              "\n",
              "    .dataframe tbody tr th {\n",
              "        vertical-align: top;\n",
              "    }\n",
              "\n",
              "    .dataframe thead th {\n",
              "        text-align: right;\n",
              "    }\n",
              "</style>\n",
              "<table border=\"1\" class=\"dataframe\">\n",
              "  <thead>\n",
              "    <tr style=\"text-align: right;\">\n",
              "      <th></th>\n",
              "      <th>close</th>\n",
              "      <th>volume</th>\n",
              "      <th>open</th>\n",
              "      <th>high</th>\n",
              "      <th>low</th>\n",
              "    </tr>\n",
              "  </thead>\n",
              "  <tbody>\n",
              "    <tr>\n",
              "      <th>0</th>\n",
              "      <td>270.49</td>\n",
              "      <td>4787699.0</td>\n",
              "      <td>264.50</td>\n",
              "      <td>273.8800</td>\n",
              "      <td>262.2400</td>\n",
              "    </tr>\n",
              "    <tr>\n",
              "      <th>1</th>\n",
              "      <td>259.59</td>\n",
              "      <td>6189026.0</td>\n",
              "      <td>259.06</td>\n",
              "      <td>263.2800</td>\n",
              "      <td>254.5367</td>\n",
              "    </tr>\n",
              "    <tr>\n",
              "      <th>2</th>\n",
              "      <td>258.78</td>\n",
              "      <td>7189257.0</td>\n",
              "      <td>261.00</td>\n",
              "      <td>261.9900</td>\n",
              "      <td>252.0100</td>\n",
              "    </tr>\n",
              "    <tr>\n",
              "      <th>3</th>\n",
              "      <td>252.23</td>\n",
              "      <td>8128184.0</td>\n",
              "      <td>257.53</td>\n",
              "      <td>262.2500</td>\n",
              "      <td>249.0300</td>\n",
              "    </tr>\n",
              "    <tr>\n",
              "      <th>4</th>\n",
              "      <td>256.88</td>\n",
              "      <td>12781560.0</td>\n",
              "      <td>264.61</td>\n",
              "      <td>265.5100</td>\n",
              "      <td>247.7700</td>\n",
              "    </tr>\n",
              "    <tr>\n",
              "      <th>...</th>\n",
              "      <td>...</td>\n",
              "      <td>...</td>\n",
              "      <td>...</td>\n",
              "      <td>...</td>\n",
              "      <td>...</td>\n",
              "    </tr>\n",
              "    <tr>\n",
              "      <th>752</th>\n",
              "      <td>210.09</td>\n",
              "      <td>4177956.0</td>\n",
              "      <td>211.99</td>\n",
              "      <td>214.8100</td>\n",
              "      <td>208.8000</td>\n",
              "    </tr>\n",
              "    <tr>\n",
              "      <th>753</th>\n",
              "      <td>213.03</td>\n",
              "      <td>14877020.0</td>\n",
              "      <td>227.72</td>\n",
              "      <td>228.6000</td>\n",
              "      <td>202.0000</td>\n",
              "    </tr>\n",
              "    <tr>\n",
              "      <th>754</th>\n",
              "      <td>228.10</td>\n",
              "      <td>2506836.0</td>\n",
              "      <td>226.50</td>\n",
              "      <td>231.1500</td>\n",
              "      <td>224.9400</td>\n",
              "    </tr>\n",
              "    <tr>\n",
              "      <th>755</th>\n",
              "      <td>227.01</td>\n",
              "      <td>4327574.0</td>\n",
              "      <td>223.04</td>\n",
              "      <td>230.4805</td>\n",
              "      <td>222.8700</td>\n",
              "    </tr>\n",
              "    <tr>\n",
              "      <th>756</th>\n",
              "      <td>221.31</td>\n",
              "      <td>2835920.0</td>\n",
              "      <td>216.43</td>\n",
              "      <td>221.7300</td>\n",
              "      <td>213.7000</td>\n",
              "    </tr>\n",
              "  </tbody>\n",
              "</table>\n",
              "<p>757 rows × 5 columns</p>\n",
              "</div>\n",
              "    <div class=\"colab-df-buttons\">\n",
              "\n",
              "  <div class=\"colab-df-container\">\n",
              "    <button class=\"colab-df-convert\" onclick=\"convertToInteractive('df-6e05c1f0-43f8-4631-9e69-64762395c000')\"\n",
              "            title=\"Convert this dataframe to an interactive table.\"\n",
              "            style=\"display:none;\">\n",
              "\n",
              "  <svg xmlns=\"http://www.w3.org/2000/svg\" height=\"24px\" viewBox=\"0 -960 960 960\">\n",
              "    <path d=\"M120-120v-720h720v720H120Zm60-500h600v-160H180v160Zm220 220h160v-160H400v160Zm0 220h160v-160H400v160ZM180-400h160v-160H180v160Zm440 0h160v-160H620v160ZM180-180h160v-160H180v160Zm440 0h160v-160H620v160Z\"/>\n",
              "  </svg>\n",
              "    </button>\n",
              "\n",
              "  <style>\n",
              "    .colab-df-container {\n",
              "      display:flex;\n",
              "      gap: 12px;\n",
              "    }\n",
              "\n",
              "    .colab-df-convert {\n",
              "      background-color: #E8F0FE;\n",
              "      border: none;\n",
              "      border-radius: 50%;\n",
              "      cursor: pointer;\n",
              "      display: none;\n",
              "      fill: #1967D2;\n",
              "      height: 32px;\n",
              "      padding: 0 0 0 0;\n",
              "      width: 32px;\n",
              "    }\n",
              "\n",
              "    .colab-df-convert:hover {\n",
              "      background-color: #E2EBFA;\n",
              "      box-shadow: 0px 1px 2px rgba(60, 64, 67, 0.3), 0px 1px 3px 1px rgba(60, 64, 67, 0.15);\n",
              "      fill: #174EA6;\n",
              "    }\n",
              "\n",
              "    .colab-df-buttons div {\n",
              "      margin-bottom: 4px;\n",
              "    }\n",
              "\n",
              "    [theme=dark] .colab-df-convert {\n",
              "      background-color: #3B4455;\n",
              "      fill: #D2E3FC;\n",
              "    }\n",
              "\n",
              "    [theme=dark] .colab-df-convert:hover {\n",
              "      background-color: #434B5C;\n",
              "      box-shadow: 0px 1px 3px 1px rgba(0, 0, 0, 0.15);\n",
              "      filter: drop-shadow(0px 1px 2px rgba(0, 0, 0, 0.3));\n",
              "      fill: #FFFFFF;\n",
              "    }\n",
              "  </style>\n",
              "\n",
              "    <script>\n",
              "      const buttonEl =\n",
              "        document.querySelector('#df-6e05c1f0-43f8-4631-9e69-64762395c000 button.colab-df-convert');\n",
              "      buttonEl.style.display =\n",
              "        google.colab.kernel.accessAllowed ? 'block' : 'none';\n",
              "\n",
              "      async function convertToInteractive(key) {\n",
              "        const element = document.querySelector('#df-6e05c1f0-43f8-4631-9e69-64762395c000');\n",
              "        const dataTable =\n",
              "          await google.colab.kernel.invokeFunction('convertToInteractive',\n",
              "                                                    [key], {});\n",
              "        if (!dataTable) return;\n",
              "\n",
              "        const docLinkHtml = 'Like what you see? Visit the ' +\n",
              "          '<a target=\"_blank\" href=https://colab.research.google.com/notebooks/data_table.ipynb>data table notebook</a>'\n",
              "          + ' to learn more about interactive tables.';\n",
              "        element.innerHTML = '';\n",
              "        dataTable['output_type'] = 'display_data';\n",
              "        await google.colab.output.renderOutput(dataTable, element);\n",
              "        const docLink = document.createElement('div');\n",
              "        docLink.innerHTML = docLinkHtml;\n",
              "        element.appendChild(docLink);\n",
              "      }\n",
              "    </script>\n",
              "  </div>\n",
              "\n",
              "\n",
              "<div id=\"df-f8e96898-354f-416a-af08-fc480fc52c6a\">\n",
              "  <button class=\"colab-df-quickchart\" onclick=\"quickchart('df-f8e96898-354f-416a-af08-fc480fc52c6a')\"\n",
              "            title=\"Suggest charts\"\n",
              "            style=\"display:none;\">\n",
              "\n",
              "<svg xmlns=\"http://www.w3.org/2000/svg\" height=\"24px\"viewBox=\"0 0 24 24\"\n",
              "     width=\"24px\">\n",
              "    <g>\n",
              "        <path d=\"M19 3H5c-1.1 0-2 .9-2 2v14c0 1.1.9 2 2 2h14c1.1 0 2-.9 2-2V5c0-1.1-.9-2-2-2zM9 17H7v-7h2v7zm4 0h-2V7h2v10zm4 0h-2v-4h2v4z\"/>\n",
              "    </g>\n",
              "</svg>\n",
              "  </button>\n",
              "\n",
              "<style>\n",
              "  .colab-df-quickchart {\n",
              "      --bg-color: #E8F0FE;\n",
              "      --fill-color: #1967D2;\n",
              "      --hover-bg-color: #E2EBFA;\n",
              "      --hover-fill-color: #174EA6;\n",
              "      --disabled-fill-color: #AAA;\n",
              "      --disabled-bg-color: #DDD;\n",
              "  }\n",
              "\n",
              "  [theme=dark] .colab-df-quickchart {\n",
              "      --bg-color: #3B4455;\n",
              "      --fill-color: #D2E3FC;\n",
              "      --hover-bg-color: #434B5C;\n",
              "      --hover-fill-color: #FFFFFF;\n",
              "      --disabled-bg-color: #3B4455;\n",
              "      --disabled-fill-color: #666;\n",
              "  }\n",
              "\n",
              "  .colab-df-quickchart {\n",
              "    background-color: var(--bg-color);\n",
              "    border: none;\n",
              "    border-radius: 50%;\n",
              "    cursor: pointer;\n",
              "    display: none;\n",
              "    fill: var(--fill-color);\n",
              "    height: 32px;\n",
              "    padding: 0;\n",
              "    width: 32px;\n",
              "  }\n",
              "\n",
              "  .colab-df-quickchart:hover {\n",
              "    background-color: var(--hover-bg-color);\n",
              "    box-shadow: 0 1px 2px rgba(60, 64, 67, 0.3), 0 1px 3px 1px rgba(60, 64, 67, 0.15);\n",
              "    fill: var(--button-hover-fill-color);\n",
              "  }\n",
              "\n",
              "  .colab-df-quickchart-complete:disabled,\n",
              "  .colab-df-quickchart-complete:disabled:hover {\n",
              "    background-color: var(--disabled-bg-color);\n",
              "    fill: var(--disabled-fill-color);\n",
              "    box-shadow: none;\n",
              "  }\n",
              "\n",
              "  .colab-df-spinner {\n",
              "    border: 2px solid var(--fill-color);\n",
              "    border-color: transparent;\n",
              "    border-bottom-color: var(--fill-color);\n",
              "    animation:\n",
              "      spin 1s steps(1) infinite;\n",
              "  }\n",
              "\n",
              "  @keyframes spin {\n",
              "    0% {\n",
              "      border-color: transparent;\n",
              "      border-bottom-color: var(--fill-color);\n",
              "      border-left-color: var(--fill-color);\n",
              "    }\n",
              "    20% {\n",
              "      border-color: transparent;\n",
              "      border-left-color: var(--fill-color);\n",
              "      border-top-color: var(--fill-color);\n",
              "    }\n",
              "    30% {\n",
              "      border-color: transparent;\n",
              "      border-left-color: var(--fill-color);\n",
              "      border-top-color: var(--fill-color);\n",
              "      border-right-color: var(--fill-color);\n",
              "    }\n",
              "    40% {\n",
              "      border-color: transparent;\n",
              "      border-right-color: var(--fill-color);\n",
              "      border-top-color: var(--fill-color);\n",
              "    }\n",
              "    60% {\n",
              "      border-color: transparent;\n",
              "      border-right-color: var(--fill-color);\n",
              "    }\n",
              "    80% {\n",
              "      border-color: transparent;\n",
              "      border-right-color: var(--fill-color);\n",
              "      border-bottom-color: var(--fill-color);\n",
              "    }\n",
              "    90% {\n",
              "      border-color: transparent;\n",
              "      border-bottom-color: var(--fill-color);\n",
              "    }\n",
              "  }\n",
              "</style>\n",
              "\n",
              "  <script>\n",
              "    async function quickchart(key) {\n",
              "      const quickchartButtonEl =\n",
              "        document.querySelector('#' + key + ' button');\n",
              "      quickchartButtonEl.disabled = true;  // To prevent multiple clicks.\n",
              "      quickchartButtonEl.classList.add('colab-df-spinner');\n",
              "      try {\n",
              "        const charts = await google.colab.kernel.invokeFunction(\n",
              "            'suggestCharts', [key], {});\n",
              "      } catch (error) {\n",
              "        console.error('Error during call to suggestCharts:', error);\n",
              "      }\n",
              "      quickchartButtonEl.classList.remove('colab-df-spinner');\n",
              "      quickchartButtonEl.classList.add('colab-df-quickchart-complete');\n",
              "    }\n",
              "    (() => {\n",
              "      let quickchartButtonEl =\n",
              "        document.querySelector('#df-f8e96898-354f-416a-af08-fc480fc52c6a button');\n",
              "      quickchartButtonEl.style.display =\n",
              "        google.colab.kernel.accessAllowed ? 'block' : 'none';\n",
              "    })();\n",
              "  </script>\n",
              "</div>\n",
              "\n",
              "  <div id=\"id_bda9ace1-a325-45c4-9d69-46f65c61221b\">\n",
              "    <style>\n",
              "      .colab-df-generate {\n",
              "        background-color: #E8F0FE;\n",
              "        border: none;\n",
              "        border-radius: 50%;\n",
              "        cursor: pointer;\n",
              "        display: none;\n",
              "        fill: #1967D2;\n",
              "        height: 32px;\n",
              "        padding: 0 0 0 0;\n",
              "        width: 32px;\n",
              "      }\n",
              "\n",
              "      .colab-df-generate:hover {\n",
              "        background-color: #E2EBFA;\n",
              "        box-shadow: 0px 1px 2px rgba(60, 64, 67, 0.3), 0px 1px 3px 1px rgba(60, 64, 67, 0.15);\n",
              "        fill: #174EA6;\n",
              "      }\n",
              "\n",
              "      [theme=dark] .colab-df-generate {\n",
              "        background-color: #3B4455;\n",
              "        fill: #D2E3FC;\n",
              "      }\n",
              "\n",
              "      [theme=dark] .colab-df-generate:hover {\n",
              "        background-color: #434B5C;\n",
              "        box-shadow: 0px 1px 3px 1px rgba(0, 0, 0, 0.15);\n",
              "        filter: drop-shadow(0px 1px 2px rgba(0, 0, 0, 0.3));\n",
              "        fill: #FFFFFF;\n",
              "      }\n",
              "    </style>\n",
              "    <button class=\"colab-df-generate\" onclick=\"generateWithVariable('data')\"\n",
              "            title=\"Generate code using this dataframe.\"\n",
              "            style=\"display:none;\">\n",
              "\n",
              "  <svg xmlns=\"http://www.w3.org/2000/svg\" height=\"24px\"viewBox=\"0 0 24 24\"\n",
              "       width=\"24px\">\n",
              "    <path d=\"M7,19H8.4L18.45,9,17,7.55,7,17.6ZM5,21V16.75L18.45,3.32a2,2,0,0,1,2.83,0l1.4,1.43a1.91,1.91,0,0,1,.58,1.4,1.91,1.91,0,0,1-.58,1.4L9.25,21ZM18.45,9,17,7.55Zm-12,3A5.31,5.31,0,0,0,4.9,8.1,5.31,5.31,0,0,0,1,6.5,5.31,5.31,0,0,0,4.9,4.9,5.31,5.31,0,0,0,6.5,1,5.31,5.31,0,0,0,8.1,4.9,5.31,5.31,0,0,0,12,6.5,5.46,5.46,0,0,0,6.5,12Z\"/>\n",
              "  </svg>\n",
              "    </button>\n",
              "    <script>\n",
              "      (() => {\n",
              "      const buttonEl =\n",
              "        document.querySelector('#id_bda9ace1-a325-45c4-9d69-46f65c61221b button.colab-df-generate');\n",
              "      buttonEl.style.display =\n",
              "        google.colab.kernel.accessAllowed ? 'block' : 'none';\n",
              "\n",
              "      buttonEl.onclick = () => {\n",
              "        google.colab.notebook.generateWithVariable('data');\n",
              "      }\n",
              "      })();\n",
              "    </script>\n",
              "  </div>\n",
              "\n",
              "    </div>\n",
              "  </div>\n"
            ],
            "application/vnd.google.colaboratory.intrinsic+json": {
              "type": "dataframe",
              "variable_name": "data",
              "summary": "{\n  \"name\": \"data\",\n  \"rows\": 757,\n  \"fields\": [\n    {\n      \"column\": \"close\",\n      \"properties\": {\n        \"dtype\": \"number\",\n        \"std\": 58.37858498207831,\n        \"min\": 143.67,\n        \"max\": 385.0,\n        \"num_unique_values\": 741,\n        \"samples\": [\n          285.48,\n          316.58,\n          357.32\n        ],\n        \"semantic_type\": \"\",\n        \"description\": \"\"\n      }\n    },\n    {\n      \"column\": \"volume\",\n      \"properties\": {\n        \"dtype\": \"number\",\n        \"std\": 3845858.6275369,\n        \"min\": 710277.0,\n        \"max\": 33597290.0,\n        \"num_unique_values\": 757,\n        \"samples\": [\n          2925481.0,\n          7473590.0,\n          3836402.0\n        ],\n        \"semantic_type\": \"\",\n        \"description\": \"\"\n      }\n    },\n    {\n      \"column\": \"open\",\n      \"properties\": {\n        \"dtype\": \"number\",\n        \"std\": 58.44982725940335,\n        \"min\": 142.32,\n        \"max\": 386.69,\n        \"num_unique_values\": 720,\n        \"samples\": [\n          312.8,\n          357.53,\n          292.25\n        ],\n        \"semantic_type\": \"\",\n        \"description\": \"\"\n      }\n    },\n    {\n      \"column\": \"high\",\n      \"properties\": {\n        \"dtype\": \"number\",\n        \"std\": 59.194760546084,\n        \"min\": 154.97,\n        \"max\": 389.61,\n        \"num_unique_values\": 734,\n        \"samples\": [\n          214.5441,\n          322.435,\n          350.979\n        ],\n        \"semantic_type\": \"\",\n        \"description\": \"\"\n      }\n    },\n    {\n      \"column\": \"low\",\n      \"properties\": {\n        \"dtype\": \"number\",\n        \"std\": 57.515735703776684,\n        \"min\": 141.05,\n        \"max\": 379.345,\n        \"num_unique_values\": 724,\n        \"samples\": [\n          370.1,\n          220.77,\n          208.0\n        ],\n        \"semantic_type\": \"\",\n        \"description\": \"\"\n      }\n    }\n  ]\n}"
            }
          },
          "metadata": {},
          "execution_count": 7
        }
      ]
    },
    {
      "cell_type": "markdown",
      "source": [
        "### Preparing data for training"
      ],
      "metadata": {
        "id": "ZfoNqR9cQaQh"
      }
    },
    {
      "cell_type": "code",
      "source": [
        "# Split into train and test sets\n",
        "train_size = int(len(data) * 0.8)\n",
        "train_data, test_data = data[:train_size], data[train_size:]"
      ],
      "metadata": {
        "id": "-B6uL11tQInd"
      },
      "execution_count": null,
      "outputs": []
    },
    {
      "cell_type": "code",
      "source": [],
      "metadata": {
        "id": "WKqLmB5WQm3B"
      },
      "execution_count": null,
      "outputs": []
    },
    {
      "cell_type": "code",
      "source": [
        "from sklearn.preprocessing import MinMaxScaler\n",
        "\n",
        "# Normalize data\n",
        "scaler = MinMaxScaler()\n",
        "train_data = scaler.fit_transform(train_data)\n",
        "test_data = scaler.transform(test_data)"
      ],
      "metadata": {
        "id": "frgScnNiHvpo"
      },
      "execution_count": null,
      "outputs": []
    },
    {
      "cell_type": "markdown",
      "source": [
        "To reshape your data into the correct format for an LSTM model, we need to transform it into a 3D array with the shape (samples, timesteps, features).\n",
        "\n",
        "- samples refer to the number of rows in our dataset\n",
        "- timesteps refer to the number of time steps in each sample sequence\n",
        "- features refer to the number of variables in each time step."
      ],
      "metadata": {
        "id": "SWxSp0PSRIab"
      }
    },
    {
      "cell_type": "code",
      "source": [
        "import numpy as np\n",
        "\n",
        "def create_sequences(data, seq_length):\n",
        "    X = []\n",
        "    y = []\n",
        "    for i in range(len(data) - seq_length):\n",
        "        X.append(data[i:i+seq_length])\n",
        "        y.append(data[i+seq_length])\n",
        "    return np.array(X), np.array(y)\n",
        "\n",
        "# Define sequence length\n",
        "seq_length = 50\n",
        "\n",
        "# Create sequences for training and testing sets\n",
        "X_train, y_train = create_sequences(train_data, seq_length)\n",
        "X_test, y_test = create_sequences(test_data, seq_length)\n",
        "\n",
        "# Print the shape of X_train and X_test\n",
        "print(\"X_train shape:\", X_train.shape)\n",
        "print(\"X_test shape:\", X_test.shape)\n",
        "\n",
        "# Now reshape the data to add an extra dimension for the feature (1 feature per time step)\n",
        "X_train = X_train.reshape((X_train.shape[0], X_train.shape[1], 5))\n",
        "X_test = X_test.reshape((X_test.shape[0], X_test.shape[1], 5))\n",
        "\n",
        "# Print reshaped shapes\n",
        "print(\"Reshaped X_train shape:\", X_train.shape)\n",
        "print(\"Reshaped X_test shape:\", X_test.shape)\n"
      ],
      "metadata": {
        "colab": {
          "base_uri": "https://localhost:8080/"
        },
        "id": "v2vpigXUJSRz",
        "outputId": "49702174-66b8-4f02-f581-3f4385c71137",
        "collapsed": true
      },
      "execution_count": null,
      "outputs": [
        {
          "output_type": "stream",
          "name": "stdout",
          "text": [
            "X_train shape: (555, 50, 5)\n",
            "X_test shape: (102, 50, 5)\n",
            "Reshaped X_train shape: (555, 50, 5)\n",
            "Reshaped X_test shape: (102, 50, 5)\n"
          ]
        }
      ]
    },
    {
      "cell_type": "markdown",
      "source": [
        "### Training Data"
      ],
      "metadata": {
        "id": "qadDqSqfSjkF"
      }
    },
    {
      "cell_type": "code",
      "source": [
        "import tensorflow as tf\n",
        "from tensorflow.keras.models import Sequential\n",
        "from tensorflow.keras.layers import LSTM, Dense\n"
      ],
      "metadata": {
        "id": "xFSl5d2dSdcX"
      },
      "execution_count": null,
      "outputs": []
    },
    {
      "cell_type": "code",
      "source": [
        "model = Sequential()\n",
        "model.add(LSTM(units=128, return_sequences=True, input_shape=(X_train.shape[1], X_train.shape[2])))\n",
        "model.add(LSTM(units=64, return_sequences=True))\n",
        "model.add(LSTM(units=64, return_sequences=False))  # Don't return sequences here\n",
        "\n",
        "model.add(Dense(units=1))  # Predict a single value for the entire sequence\n",
        "\n",
        "model.compile(loss='mean_squared_error', optimizer='adam')\n",
        "model.fit(X_train, y_train, epochs=100, batch_size=1, verbose=2)\n"
      ],
      "metadata": {
        "colab": {
          "base_uri": "https://localhost:8080/"
        },
        "id": "m-qydbG2SoZC",
        "outputId": "26cd41bb-a6fa-45dd-fa47-7b584b034775"
      },
      "execution_count": null,
      "outputs": [
        {
          "output_type": "stream",
          "name": "stderr",
          "text": [
            "/usr/local/lib/python3.10/dist-packages/keras/src/layers/rnn/rnn.py:204: UserWarning: Do not pass an `input_shape`/`input_dim` argument to a layer. When using Sequential models, prefer using an `Input(shape)` object as the first layer in the model instead.\n",
            "  super().__init__(**kwargs)\n"
          ]
        },
        {
          "output_type": "stream",
          "name": "stdout",
          "text": [
            "Epoch 1/100\n",
            "555/555 - 9s - 17ms/step - loss: 0.0410\n",
            "Epoch 2/100\n",
            "555/555 - 6s - 11ms/step - loss: 0.0370\n",
            "Epoch 3/100\n",
            "555/555 - 11s - 20ms/step - loss: 0.0360\n",
            "Epoch 4/100\n",
            "555/555 - 5s - 9ms/step - loss: 0.0356\n",
            "Epoch 5/100\n",
            "555/555 - 4s - 7ms/step - loss: 0.0352\n",
            "Epoch 6/100\n",
            "555/555 - 7s - 14ms/step - loss: 0.0349\n",
            "Epoch 7/100\n",
            "555/555 - 8s - 14ms/step - loss: 0.0350\n",
            "Epoch 8/100\n",
            "555/555 - 6s - 10ms/step - loss: 0.0350\n",
            "Epoch 9/100\n",
            "555/555 - 5s - 8ms/step - loss: 0.0349\n",
            "Epoch 10/100\n",
            "555/555 - 7s - 13ms/step - loss: 0.0349\n",
            "Epoch 11/100\n",
            "555/555 - 8s - 15ms/step - loss: 0.0349\n",
            "Epoch 12/100\n",
            "555/555 - 6s - 11ms/step - loss: 0.0346\n",
            "Epoch 13/100\n",
            "555/555 - 4s - 7ms/step - loss: 0.0346\n",
            "Epoch 14/100\n",
            "555/555 - 4s - 7ms/step - loss: 0.0347\n",
            "Epoch 15/100\n",
            "555/555 - 6s - 11ms/step - loss: 0.0348\n",
            "Epoch 16/100\n",
            "555/555 - 4s - 7ms/step - loss: 0.0347\n",
            "Epoch 17/100\n",
            "555/555 - 5s - 8ms/step - loss: 0.0346\n",
            "Epoch 18/100\n",
            "555/555 - 5s - 9ms/step - loss: 0.0346\n",
            "Epoch 19/100\n",
            "555/555 - 5s - 8ms/step - loss: 0.0346\n",
            "Epoch 20/100\n",
            "555/555 - 4s - 8ms/step - loss: 0.0346\n",
            "Epoch 21/100\n",
            "555/555 - 5s - 8ms/step - loss: 0.0346\n",
            "Epoch 22/100\n",
            "555/555 - 5s - 9ms/step - loss: 0.0346\n",
            "Epoch 23/100\n",
            "555/555 - 6s - 11ms/step - loss: 0.0347\n",
            "Epoch 24/100\n",
            "555/555 - 4s - 8ms/step - loss: 0.0346\n",
            "Epoch 25/100\n",
            "555/555 - 6s - 11ms/step - loss: 0.0346\n",
            "Epoch 26/100\n",
            "555/555 - 4s - 7ms/step - loss: 0.0345\n",
            "Epoch 27/100\n",
            "555/555 - 4s - 7ms/step - loss: 0.0345\n",
            "Epoch 28/100\n",
            "555/555 - 5s - 8ms/step - loss: 0.0345\n",
            "Epoch 29/100\n",
            "555/555 - 4s - 8ms/step - loss: 0.0345\n",
            "Epoch 30/100\n",
            "555/555 - 5s - 9ms/step - loss: 0.0345\n",
            "Epoch 31/100\n",
            "555/555 - 5s - 9ms/step - loss: 0.0344\n",
            "Epoch 32/100\n",
            "555/555 - 4s - 8ms/step - loss: 0.0345\n",
            "Epoch 33/100\n",
            "555/555 - 4s - 7ms/step - loss: 0.0345\n",
            "Epoch 34/100\n",
            "555/555 - 6s - 10ms/step - loss: 0.0345\n",
            "Epoch 35/100\n",
            "555/555 - 5s - 9ms/step - loss: 0.0345\n",
            "Epoch 36/100\n",
            "555/555 - 5s - 9ms/step - loss: 0.0344\n",
            "Epoch 37/100\n",
            "555/555 - 4s - 8ms/step - loss: 0.0344\n",
            "Epoch 38/100\n",
            "555/555 - 4s - 7ms/step - loss: 0.0345\n",
            "Epoch 39/100\n",
            "555/555 - 6s - 11ms/step - loss: 0.0344\n",
            "Epoch 40/100\n",
            "555/555 - 4s - 7ms/step - loss: 0.0344\n",
            "Epoch 41/100\n",
            "555/555 - 4s - 7ms/step - loss: 0.0344\n",
            "Epoch 42/100\n",
            "555/555 - 6s - 11ms/step - loss: 0.0345\n",
            "Epoch 43/100\n",
            "555/555 - 4s - 7ms/step - loss: 0.0344\n",
            "Epoch 44/100\n",
            "555/555 - 6s - 10ms/step - loss: 0.0343\n",
            "Epoch 45/100\n",
            "555/555 - 4s - 8ms/step - loss: 0.0344\n",
            "Epoch 46/100\n",
            "555/555 - 5s - 8ms/step - loss: 0.0345\n",
            "Epoch 47/100\n",
            "555/555 - 5s - 8ms/step - loss: 0.0344\n",
            "Epoch 48/100\n",
            "555/555 - 4s - 8ms/step - loss: 0.0343\n",
            "Epoch 49/100\n",
            "555/555 - 5s - 9ms/step - loss: 0.0344\n",
            "Epoch 50/100\n",
            "555/555 - 5s - 9ms/step - loss: 0.0343\n",
            "Epoch 51/100\n",
            "555/555 - 4s - 7ms/step - loss: 0.0343\n",
            "Epoch 52/100\n",
            "555/555 - 5s - 9ms/step - loss: 0.0345\n",
            "Epoch 53/100\n",
            "555/555 - 5s - 9ms/step - loss: 0.0344\n",
            "Epoch 54/100\n",
            "555/555 - 4s - 7ms/step - loss: 0.0343\n",
            "Epoch 55/100\n",
            "555/555 - 5s - 9ms/step - loss: 0.0343\n",
            "Epoch 56/100\n",
            "555/555 - 5s - 9ms/step - loss: 0.0343\n",
            "Epoch 57/100\n",
            "555/555 - 4s - 7ms/step - loss: 0.0344\n",
            "Epoch 58/100\n",
            "555/555 - 5s - 10ms/step - loss: 0.0343\n",
            "Epoch 59/100\n",
            "555/555 - 4s - 8ms/step - loss: 0.0343\n",
            "Epoch 60/100\n",
            "555/555 - 4s - 7ms/step - loss: 0.0343\n",
            "Epoch 61/100\n",
            "555/555 - 6s - 11ms/step - loss: 0.0343\n",
            "Epoch 62/100\n",
            "555/555 - 4s - 8ms/step - loss: 0.0342\n",
            "Epoch 63/100\n",
            "555/555 - 5s - 9ms/step - loss: 0.0343\n",
            "Epoch 64/100\n",
            "555/555 - 5s - 9ms/step - loss: 0.0343\n",
            "Epoch 65/100\n",
            "555/555 - 4s - 7ms/step - loss: 0.0342\n",
            "Epoch 66/100\n",
            "555/555 - 4s - 7ms/step - loss: 0.0342\n",
            "Epoch 67/100\n",
            "555/555 - 6s - 11ms/step - loss: 0.0343\n",
            "Epoch 68/100\n",
            "555/555 - 4s - 7ms/step - loss: 0.0343\n",
            "Epoch 69/100\n",
            "555/555 - 4s - 7ms/step - loss: 0.0343\n",
            "Epoch 70/100\n",
            "555/555 - 5s - 9ms/step - loss: 0.0342\n",
            "Epoch 71/100\n",
            "555/555 - 4s - 7ms/step - loss: 0.0343\n",
            "Epoch 72/100\n",
            "555/555 - 4s - 7ms/step - loss: 0.0342\n",
            "Epoch 73/100\n",
            "555/555 - 5s - 9ms/step - loss: 0.0342\n",
            "Epoch 74/100\n",
            "555/555 - 4s - 8ms/step - loss: 0.0342\n",
            "Epoch 75/100\n",
            "555/555 - 5s - 8ms/step - loss: 0.0342\n",
            "Epoch 76/100\n",
            "555/555 - 5s - 9ms/step - loss: 0.0343\n",
            "Epoch 77/100\n",
            "555/555 - 4s - 7ms/step - loss: 0.0342\n",
            "Epoch 78/100\n",
            "555/555 - 4s - 7ms/step - loss: 0.0342\n",
            "Epoch 79/100\n",
            "555/555 - 5s - 9ms/step - loss: 0.0342\n",
            "Epoch 80/100\n",
            "555/555 - 4s - 8ms/step - loss: 0.0342\n",
            "Epoch 81/100\n",
            "555/555 - 4s - 7ms/step - loss: 0.0342\n",
            "Epoch 82/100\n",
            "555/555 - 5s - 9ms/step - loss: 0.0342\n",
            "Epoch 83/100\n",
            "555/555 - 4s - 7ms/step - loss: 0.0343\n",
            "Epoch 84/100\n",
            "555/555 - 5s - 10ms/step - loss: 0.0342\n",
            "Epoch 85/100\n",
            "555/555 - 5s - 9ms/step - loss: 0.0343\n",
            "Epoch 86/100\n",
            "555/555 - 5s - 9ms/step - loss: 0.0341\n",
            "Epoch 87/100\n",
            "555/555 - 5s - 9ms/step - loss: 0.0342\n",
            "Epoch 88/100\n",
            "555/555 - 4s - 7ms/step - loss: 0.0342\n",
            "Epoch 89/100\n",
            "555/555 - 5s - 9ms/step - loss: 0.0342\n",
            "Epoch 90/100\n",
            "555/555 - 6s - 10ms/step - loss: 0.0342\n",
            "Epoch 91/100\n",
            "555/555 - 5s - 8ms/step - loss: 0.0342\n",
            "Epoch 92/100\n",
            "555/555 - 4s - 8ms/step - loss: 0.0342\n",
            "Epoch 93/100\n",
            "555/555 - 5s - 8ms/step - loss: 0.0342\n",
            "Epoch 94/100\n",
            "555/555 - 5s - 9ms/step - loss: 0.0343\n",
            "Epoch 95/100\n",
            "555/555 - 5s - 9ms/step - loss: 0.0342\n",
            "Epoch 96/100\n",
            "555/555 - 4s - 7ms/step - loss: 0.0342\n",
            "Epoch 97/100\n",
            "555/555 - 4s - 7ms/step - loss: 0.0341\n",
            "Epoch 98/100\n",
            "555/555 - 6s - 11ms/step - loss: 0.0342\n",
            "Epoch 99/100\n",
            "555/555 - 5s - 9ms/step - loss: 0.0341\n",
            "Epoch 100/100\n",
            "555/555 - 4s - 8ms/step - loss: 0.0342\n"
          ]
        },
        {
          "output_type": "execute_result",
          "data": {
            "text/plain": [
              "<keras.src.callbacks.history.History at 0x7cbbcb186ad0>"
            ]
          },
          "metadata": {},
          "execution_count": 12
        }
      ]
    }
  ]
}